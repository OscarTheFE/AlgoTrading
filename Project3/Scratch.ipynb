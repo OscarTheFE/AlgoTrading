{
 "cells": [
  {
   "cell_type": "code",
   "execution_count": 2,
   "id": "4ff48019",
   "metadata": {},
   "outputs": [],
   "source": [
    "def _pair_exp_cov(X, Y, span= 10):\n",
    "    \"\"\"\n",
    "    Calculate the exponential covariance between two timeseries of returns.\n",
    "    :param X: first time series of returns\n",
    "    :type X: pd.Series\n",
    "    :param Y: second time series of returns\n",
    "    :type Y: pd.Series\n",
    "    :param span: the span of the exponential weighting function, defaults to 180\n",
    "    :type span: int, optional\n",
    "    :return: the exponential covariance between X and Y\n",
    "    :rtype: float\n",
    "    \"\"\"\n",
    "    covariation = (X - X.mean()) * (Y - Y.mean())\n",
    "    # Exponentially weight the covariation and take the mean\n",
    "    if span < 3:\n",
    "        warnings.warn(\"it is recommended to use a higher span, e.g 30 days\")\n",
    "    return covariation.ewm(span=span).mean().iloc[-1]\n",
    "\n",
    "def exp_cov(\n",
    "    return_data, span = 3, frequency = 25, log_returns = False, **kwargs\n",
    "):\n",
    "    \"\"\"\n",
    "    Estimate the exponentially-weighted covariance matrix, which gives\n",
    "    greater weight to more recent data.\n",
    "    :param prices: adjusted closing prices of the asset, each row is a date\n",
    "                   and each column is a ticker/id.\n",
    "    :type prices: pd.DataFrame\n",
    "    :param returns_data: if true, the first argument is returns instead of prices.\n",
    "    :type returns_data: bool, defaults to False.\n",
    "    :param span: the span of the exponential weighting function, defaults to 180\n",
    "    :type span: int, optional\n",
    "    :param frequency: number of time periods in a year, defaults to 252 (the number\n",
    "                      of trading days in a year)\n",
    "    :type frequency: int, optional\n",
    "    :param log_returns: whether to compute using log returns\n",
    "    :type log_returns: bool, defaults to False\n",
    "    :return: annualised estimate of exponential covariance matrix\n",
    "    :rtype: pd.DataFrame\n",
    "    \"\"\"\n",
    "    if not isinstance(return_data, pd.DataFrame):\n",
    "        warnings.warn(\"data is not in a dataframe\", RuntimeWarning)\n",
    "        prices = pd.DataFrame(return_)\n",
    "        \n",
    "    assets = prices.columns\n",
    "    if returns_data:\n",
    "        returns = prices\n",
    "    else:\n",
    "        returns = returns_from_prices(prices, log_returns)\n",
    "    N = len(assets)\n",
    "\n",
    "    # Loop over matrix, filling entries with the pairwise exp cov\n",
    "    S = np.zeros((N, N))\n",
    "    for i in range(N):\n",
    "        for j in range(i, N):\n",
    "            S[i, j] = S[j, i] = _pair_exp_cov(\n",
    "                returns.iloc[:, i], returns.iloc[:, j], span\n",
    "            )\n",
    "    cov = pd.DataFrame(S * frequency, columns=assets, index=assets)\n",
    "\n",
    "    return cov "
   ]
  },
  {
   "cell_type": "code",
   "execution_count": 2,
   "id": "ccc32e7c",
   "metadata": {},
   "outputs": [],
   "source": [
    "import pandas as pd\n",
    "import numpy as np\n",
    "from sklearn.covariance import EmpiricalCovariance\n",
    "from scipy.optimize import minimize\n",
    "import warnings\n",
    "import pyRMT\n",
    "warnings.filterwarnings('ignore')\n",
    "pd.options.mode.chained_assignment = None\n",
    "\n",
    "\n",
    "class TAQCovariance(object):\n",
    "    def __init__(self):\n",
    "        self.return_matrix = pd.read_csv(\"5_mins_mid_quote_ret.csv\")\n",
    "        self.return_matrix[\"Datetime\"] = pd.to_datetime(self.return_matrix.Datetime)\n",
    "        \n",
    "        \n",
    "        self.dates = self.return_matrix[\"Datetime\"].apply(lambda x: x.strftime(\"%Y%m%d\")).unique()\n",
    "        self.return_matrix.set_index(\"Datetime\",inplace=True)\n",
    "        #self.return_matrix = self.return_matrix.loc[pd.to_datetime(self.return_matrix.index.strftime(\"%H:%M\")) >= pd.to_datetime(\"13:35\")]\n",
    "        \n",
    "        self.pre_processing()\n",
    "        \n",
    "    def pre_processing(self):\n",
    "        \n",
    "        # subtract_mean\n",
    "        self.return_matrix -= self.return_matrix.mean()\n",
    "        # cross-sectional daily volatility\n",
    "        cross_sectional_vol = (self.return_matrix ** 2).sum(axis=1)\n",
    "        cross_sectional_vol = np.sqrt(cross_sectional_vol)\n",
    "        \n",
    "        \n",
    "        def pre_process(x):\n",
    "            # normalize by cross_sectional vol\n",
    "            x = x / cross_sectional_vol\n",
    "            return x\n",
    "\n",
    "        self.return_matrix = self.return_matrix.apply(lambda x: pre_process(x))\n",
    "        return \n",
    "    \n",
    "    def normalize_train(self, start_date, end_date):\n",
    "        start_date = pd.to_datetime(start_date)\n",
    "        end_date = pd.to_datetime(end_date)\n",
    "        sub_df = self.return_matrix.copy()\n",
    "        sub_df = sub_df.loc[(sub_df.index >= start_date) & (sub_df.index < end_date)]\n",
    "        \n",
    "        cross_time_vol = []\n",
    "        def normalize(x):\n",
    "            # normalize by cross_time vol\n",
    "            std = x.std()\n",
    "            cross_time_vol.append(std)\n",
    "            x = x / std\n",
    "            return x\n",
    "        \n",
    "        sub_df = sub_df.apply(lambda x: normalize(x))\n",
    "        return sub_df,np.array(cross_time_vol)\n",
    "        \n",
    "        \n",
    "    # Compute strategy weights  \n",
    "    def compute_weights(self,return_matrix, cov_matrix, index, weight_method):\n",
    "        num = cov_matrix.shape[0]\n",
    "        cov_matrix_inv = pd.DataFrame(np.linalg.pinv(cov_matrix.values), cov_matrix.columns, cov_matrix.index)\n",
    "        if weight_method == 'historical':\n",
    "            g_list = np.array([1] * num).reshape(-1,1)\n",
    "\n",
    "            w = cov_matrix_inv.dot(g_list)/np.dot(g_list.T,np.dot(cov_matrix_inv,g_list))\n",
    "            return w\n",
    "\n",
    "        if weight_method == 'omniscient':\n",
    "            g_list = np.sqrt(num) * return_matrix.iloc[0]\n",
    "            g_list = g_list.values.reshape(-1,1)\n",
    "\n",
    "            w = cov_matrix_inv.dot(g_list)/np.dot(g_list.T,np.dot(cov_matrix_inv,g_list))\n",
    "            return w\n",
    "        \n",
    "        if weight_method == \"mean_reverting\":\n",
    "            \n",
    "            test_start_date = pd.to_datetime(self.dates[index])\n",
    "            train_end_date = pd.to_datetime(self.dates[index - 1])\n",
    "            prev_day_return = self.return_matrix.loc[(self.return_matrix.index >= train_end_date)\\\n",
    "                                                     & (self.return_matrix.index < test_start_date)]\n",
    "            g_list = np.sqrt(num) * prev_day_return.iloc[-1]\n",
    "            g_list = g_list.values.reshape(-1,1)\n",
    "\n",
    "            w = cov_matrix_inv.dot(g_list)/np.dot(g_list.T,np.dot(cov_matrix_inv,g_list))\n",
    "            return w\n",
    "        \n",
    "        if weight_method == 'random_long_short':\n",
    "            g_list = np.random.uniform(0, 1, num)\n",
    "            g_list = g_list.reshape(-1,1)\n",
    "\n",
    "            w = cov_matrix_inv.dot(g_list)/np.dot(g_list.T,np.dot(cov_matrix_inv,g_list))\n",
    "            return w\n",
    "    \n",
    "    \n",
    "    def compute_return_vol(self, w, return_matrix):\n",
    "        w = w.values\n",
    "        total_return = np.dot(return_matrix, w)\n",
    "        total_return_square = total_return ** 2\n",
    "        R_square = total_return_square.sum()/return_matrix.shape[0]\n",
    "        return R_square\n",
    "        \n",
    "    def compute_biastats(self, w, return_matrix):\n",
    "        w = w.values\n",
    "        total_return = np.dot(return_matrix, w)\n",
    "        total_return_square = total_return ** 2 \n",
    "        R_square = total_return_square.sum()/return_matrix.shape[0]\n",
    "        std_var = np.sqrt(R_square)\n",
    "        bias_stats = (total_return / std_var).std()\n",
    "        return bias_stats \n",
    "        \n",
    "    def rolling_backtest(self, train_win=7, test_win=2, shrinkage_method='Empirical', weight_method = \"historical\"):\n",
    "        \n",
    "        R_square_list = []\n",
    "        Bias_stats_list = []\n",
    "        for i in range(len(self.dates) - (train_win + test_win)):\n",
    "            \n",
    "            train_start_date = self.dates[i]\n",
    "            train_end_date = self.dates[i + train_win]\n",
    "            \n",
    "            test_start_date = self.dates[i + train_win]\n",
    "            test_end_date = self.dates[i + train_win + test_win]\n",
    "            \n",
    "            train_df, cross_time_vol = self.normalize_train(train_start_date,train_end_date)\n",
    "            test_return = self.return_matrix.loc[(self.return_matrix.index >= test_start_date) & (self.return_matrix.index < test_end_date)]\n",
    "\n",
    "            if shrinkage_method == 'Empirical':\n",
    "                train_cov = EmpiricalCovariance().fit(train_df)\n",
    "                train_cov = pd.DataFrame(train_cov.covariance_, index=train_df.columns, columns=train_df.columns)\n",
    "\n",
    "            if shrinkage_method == 'Clipped':\n",
    "                train_cov = pyRMT.clipped(train_df, return_covariance=True)\n",
    "                train_cov = pd.DataFrame(train_cov, index=train_df.columns, columns=train_df.columns)\n",
    "            \n",
    "\n",
    "            if shrinkage_method == 'Optimal':\n",
    "                train_cov = pyRMT.optimalShrinkage(train_df, return_covariance=True)\n",
    "                train_cov = pd.DataFrame(train_cov, index=train_df.columns, columns=train_df.columns)\n",
    "                \n",
    "            # restoring volatility to our correlation matrix\n",
    "            cross_time_vol_matrix = cross_time_vol.reshape(-1,1) * cross_time_vol\n",
    "            train_cov = train_cov * cross_time_vol_matrix\n",
    "            \n",
    "            weights = self.compute_weights(test_return,train_cov,i+train_win,weight_method)\n",
    "            R_square = self.compute_return_vol(weights,test_return)\n",
    "            Bias_stats = self.compute_biastats(weights, test_return)\n",
    "            R_square_list.append(R_square)\n",
    "            Bias_stats_list.append(Bias_stats)\n",
    "            \n",
    "        return R_square_list, Bias_stats_list \n",
    "        \n",
    "    def generate_R_square_table(self, train_win, test_win):\n",
    "        shrinkage_methods = ['Empirical',\"Clipped\",\"Optimal\"]\n",
    "        weight_methods = [\"historical\",'omniscient', \"mean_reverting\",'random_long_short']\n",
    "        table_dic_R_squared = {}\n",
    "        table_dic_Bias = {}\n",
    "        for shrinkage_method in shrinkage_methods:\n",
    "            temp_dic_R_squared = {}\n",
    "            temp_dic_Bias = {}\n",
    "            for weight_method in weight_methods:\n",
    "                R_square_list, Bias_stats_list = self.rolling_backtest(train_win,test_win,shrinkage_method,weight_method)\n",
    "                mean_R_square = np.mean(R_square_list)\n",
    "                mean_Bias = np.mean(Bias_stats_list)\n",
    "                \n",
    "                temp_dic_R_squared[weight_method] = mean_R_square\n",
    "                temp_dic_Bias[weight_method] = mean_Bias - 1\n",
    "  \n",
    "            table_dic_R_squared[shrinkage_method] = temp_dic_R_squared\n",
    "            table_dic_Bias[shrinkage_method] = temp_dic_Bias\n",
    "        return pd.DataFrame(table_dic_R_squared), pd.DataFrame(table_dic_Bias)\n"
   ]
  },
  {
   "cell_type": "code",
   "execution_count": 34,
   "id": "489b58e7",
   "metadata": {},
   "outputs": [
    {
     "data": {
      "text/plain": [
       "array(['20070904', '20070905', '20070906', '20070907', '20070910',\n",
       "       '20070911', '20070912', '20070913', '20070914', '20070917',\n",
       "       '20070918', '20070919', '20070920'], dtype=object)"
      ]
     },
     "execution_count": 34,
     "metadata": {},
     "output_type": "execute_result"
    }
   ],
   "source": [
    "TAQCovariance_obj = TAQCovariance()\n",
    "TAQCovariance_obj.return_matrix.ABT\n",
    "TAQCovariance_obj.dates"
   ]
  },
  {
   "cell_type": "code",
   "execution_count": 15,
   "id": "f2fc9f2c",
   "metadata": {
    "scrolled": false
   },
   "outputs": [
    {
     "data": {
      "text/plain": [
       "([0.0815034049078314,\n",
       "  0.0827666916613883,\n",
       "  0.08218748200164708,\n",
       "  0.07992880347675381],\n",
       " [0.998733940899264,\n",
       "  0.9999998071264448,\n",
       "  0.9992903319277684,\n",
       "  0.9985099169910595])"
      ]
     },
     "execution_count": 15,
     "metadata": {},
     "output_type": "execute_result"
    }
   ],
   "source": [
    "TAQCovariance_obj.rolling_backtest(shrinkage_method=\"Optimal\",weight_method = \"omniscient\")"
   ]
  },
  {
   "cell_type": "code",
   "execution_count": 35,
   "id": "5087e16e",
   "metadata": {},
   "outputs": [
    {
     "data": {
      "text/plain": [
       "(                   Empirical   Clipped   Optimal\n",
       " historical          0.083275  0.082422  0.082417\n",
       " omniscient          0.080268  0.080711  0.079290\n",
       " mean_reverting      0.055777  0.055544  0.055398\n",
       " random_long_short   0.218167  0.126026  1.885443,\n",
       "                       Empirical   Clipped   Optimal\n",
       " historical        -1.226363e-04 -0.000078 -0.000062\n",
       " omniscient        -1.572318e-03 -0.001397 -0.001339\n",
       " mean_reverting    -4.958163e-04 -0.000155 -0.000112\n",
       " random_long_short -3.911632e-07 -0.000002 -0.002790)"
      ]
     },
     "execution_count": 35,
     "metadata": {},
     "output_type": "execute_result"
    }
   ],
   "source": [
    "TAQCovariance_obj.generate_R_square_table(10,2)"
   ]
  },
  {
   "cell_type": "code",
   "execution_count": 174,
   "id": "3cb942a9",
   "metadata": {},
   "outputs": [],
   "source": [
    "# Seperating training and testing dataset on rolling basis\n",
    "    "
   ]
  },
  {
   "cell_type": "code",
   "execution_count": 4,
   "id": "f1392ef2",
   "metadata": {},
   "outputs": [
    {
     "data": {
      "text/plain": [
       "array([[1],\n",
       "       [1],\n",
       "       [1]])"
      ]
     },
     "execution_count": 4,
     "metadata": {},
     "output_type": "execute_result"
    }
   ],
   "source": [
    "np.array([1] * 3).reshape(-1,1)"
   ]
  },
  {
   "cell_type": "code",
   "execution_count": null,
   "id": "2a302b2e",
   "metadata": {},
   "outputs": [],
   "source": []
  },
  {
   "cell_type": "code",
   "execution_count": null,
   "id": "53d116d6",
   "metadata": {},
   "outputs": [],
   "source": []
  },
  {
   "cell_type": "code",
   "execution_count": null,
   "id": "664bf202",
   "metadata": {},
   "outputs": [],
   "source": []
  },
  {
   "cell_type": "code",
   "execution_count": null,
   "id": "7e9ffaa4",
   "metadata": {},
   "outputs": [],
   "source": []
  },
  {
   "cell_type": "code",
   "execution_count": null,
   "id": "8e706f35",
   "metadata": {},
   "outputs": [],
   "source": []
  },
  {
   "cell_type": "code",
   "execution_count": 3,
   "id": "997126cf",
   "metadata": {},
   "outputs": [],
   "source": [
    "import pandas as pd"
   ]
  },
  {
   "cell_type": "code",
   "execution_count": 52,
   "id": "ab619e19",
   "metadata": {},
   "outputs": [],
   "source": [
    "a = {\"1\": pd.DataFrame([1,2,3,4,5],index=[1,2,3,4,5],columns = [\"a\"]), \"2\": pd.DataFrame([1,2,3,4],index=[1,2,3,4], columns = [\"b\"])}"
   ]
  },
  {
   "cell_type": "code",
   "execution_count": 56,
   "id": "ccdd407d",
   "metadata": {},
   "outputs": [],
   "source": [
    "v = pd.DataFrame([1,2,3,4,5],index=[1,2,3,4,5],columns = [\"a\"])"
   ]
  },
  {
   "cell_type": "code",
   "execution_count": 58,
   "id": "3c0df9b5",
   "metadata": {},
   "outputs": [],
   "source": [
    "l = pd.DataFrame([])"
   ]
  },
  {
   "cell_type": "code",
   "execution_count": 59,
   "id": "0de8b2f3",
   "metadata": {},
   "outputs": [
    {
     "data": {
      "text/plain": [
       "True"
      ]
     },
     "execution_count": 59,
     "metadata": {},
     "output_type": "execute_result"
    }
   ],
   "source": [
    "l.empty"
   ]
  },
  {
   "cell_type": "code",
   "execution_count": 57,
   "id": "9d91c5f0",
   "metadata": {},
   "outputs": [
    {
     "data": {
      "text/plain": [
       "False"
      ]
     },
     "execution_count": 57,
     "metadata": {},
     "output_type": "execute_result"
    }
   ],
   "source": [
    "v.empty"
   ]
  },
  {
   "cell_type": "code",
   "execution_count": 53,
   "id": "604a0346",
   "metadata": {},
   "outputs": [],
   "source": [
    "x = pd.concat(a,axis = 1).sum(axis=1, level=0)"
   ]
  },
  {
   "cell_type": "code",
   "execution_count": 54,
   "id": "4bb06966",
   "metadata": {},
   "outputs": [
    {
     "data": {
      "text/html": [
       "<div>\n",
       "<style scoped>\n",
       "    .dataframe tbody tr th:only-of-type {\n",
       "        vertical-align: middle;\n",
       "    }\n",
       "\n",
       "    .dataframe tbody tr th {\n",
       "        vertical-align: top;\n",
       "    }\n",
       "\n",
       "    .dataframe thead th {\n",
       "        text-align: right;\n",
       "    }\n",
       "</style>\n",
       "<table border=\"1\" class=\"dataframe\">\n",
       "  <thead>\n",
       "    <tr style=\"text-align: right;\">\n",
       "      <th></th>\n",
       "      <th>1</th>\n",
       "      <th>2</th>\n",
       "    </tr>\n",
       "  </thead>\n",
       "  <tbody>\n",
       "    <tr>\n",
       "      <th>1</th>\n",
       "      <td>1.0</td>\n",
       "      <td>1.0</td>\n",
       "    </tr>\n",
       "    <tr>\n",
       "      <th>2</th>\n",
       "      <td>2.0</td>\n",
       "      <td>2.0</td>\n",
       "    </tr>\n",
       "    <tr>\n",
       "      <th>3</th>\n",
       "      <td>3.0</td>\n",
       "      <td>3.0</td>\n",
       "    </tr>\n",
       "    <tr>\n",
       "      <th>4</th>\n",
       "      <td>4.0</td>\n",
       "      <td>4.0</td>\n",
       "    </tr>\n",
       "    <tr>\n",
       "      <th>5</th>\n",
       "      <td>5.0</td>\n",
       "      <td>0.0</td>\n",
       "    </tr>\n",
       "  </tbody>\n",
       "</table>\n",
       "</div>"
      ],
      "text/plain": [
       "     1    2\n",
       "1  1.0  1.0\n",
       "2  2.0  2.0\n",
       "3  3.0  3.0\n",
       "4  4.0  4.0\n",
       "5  5.0  0.0"
      ]
     },
     "execution_count": 54,
     "metadata": {},
     "output_type": "execute_result"
    }
   ],
   "source": [
    "x"
   ]
  },
  {
   "cell_type": "code",
   "execution_count": 21,
   "id": "906e4028",
   "metadata": {},
   "outputs": [
    {
     "data": {
      "text/plain": [
       "3    6.0\n",
       "4    8.0\n",
       "5    5.0\n",
       "6    5.0\n",
       "dtype: float64"
      ]
     },
     "execution_count": 21,
     "metadata": {},
     "output_type": "execute_result"
    }
   ],
   "source": [
    "x.loc[x.index>2].sum(axis = 1)"
   ]
  },
  {
   "cell_type": "code",
   "execution_count": 49,
   "id": "762394cd",
   "metadata": {},
   "outputs": [],
   "source": [
    "l = pd.to_datetime(pd.to_datetime(\"2007-06-20 13:50\").strftime(\"%H:%M\")) > pd.to_datetime(\"13:30\")"
   ]
  },
  {
   "cell_type": "code",
   "execution_count": 50,
   "id": "0ebb0305",
   "metadata": {},
   "outputs": [
    {
     "data": {
      "text/plain": [
       "True"
      ]
     },
     "execution_count": 50,
     "metadata": {},
     "output_type": "execute_result"
    }
   ],
   "source": [
    "l"
   ]
  },
  {
   "cell_type": "code",
   "execution_count": 43,
   "id": "fadbe503",
   "metadata": {},
   "outputs": [],
   "source": [
    "z = pd.to_datetime(l.strftime(\"%H:%M\"))"
   ]
  },
  {
   "cell_type": "code",
   "execution_count": 45,
   "id": "a733eb2c",
   "metadata": {},
   "outputs": [
    {
     "data": {
      "text/plain": [
       "Timestamp('2022-04-18 13:50:00')"
      ]
     },
     "execution_count": 45,
     "metadata": {},
     "output_type": "execute_result"
    }
   ],
   "source": [
    "z"
   ]
  },
  {
   "cell_type": "code",
   "execution_count": 44,
   "id": "a5b0b431",
   "metadata": {
    "scrolled": true
   },
   "outputs": [
    {
     "data": {
      "text/plain": [
       "False"
      ]
     },
     "execution_count": 44,
     "metadata": {},
     "output_type": "execute_result"
    }
   ],
   "source": [
    "l > z"
   ]
  },
  {
   "cell_type": "code",
   "execution_count": 3,
   "id": "42090e43",
   "metadata": {},
   "outputs": [],
   "source": [
    "a = pd.DataFrame([1,2,3,4,5],index=[1,2,3,4,5])"
   ]
  },
  {
   "cell_type": "code",
   "execution_count": 25,
   "id": "a96020b6",
   "metadata": {},
   "outputs": [
    {
     "data": {
      "text/plain": [
       "0    1.581139\n",
       "dtype: float64"
      ]
     },
     "execution_count": 25,
     "metadata": {},
     "output_type": "execute_result"
    }
   ],
   "source": [
    "a.std()"
   ]
  },
  {
   "cell_type": "code",
   "execution_count": 58,
   "id": "bb7167f0",
   "metadata": {},
   "outputs": [],
   "source": [
    "b = np.dot(a,a.T)"
   ]
  },
  {
   "cell_type": "code",
   "execution_count": 63,
   "id": "d966d40d",
   "metadata": {},
   "outputs": [
    {
     "data": {
      "text/plain": [
       "array([[ 1,  2,  3,  4,  5],\n",
       "       [ 2,  4,  6,  8, 10],\n",
       "       [ 3,  6,  9, 12, 15],\n",
       "       [ 4,  8, 12, 16, 20],\n",
       "       [ 5, 10, 15, 20, 25]])"
      ]
     },
     "execution_count": 63,
     "metadata": {},
     "output_type": "execute_result"
    }
   ],
   "source": [
    "b"
   ]
  },
  {
   "cell_type": "code",
   "execution_count": 62,
   "id": "45f6ce56",
   "metadata": {},
   "outputs": [
    {
     "data": {
      "text/plain": [
       "array([[ 0,  1,  2,  3,  4],\n",
       "       [ 1,  3,  5,  7,  9],\n",
       "       [ 2,  5,  8, 11, 14],\n",
       "       [ 3,  7, 11, 15, 19],\n",
       "       [ 4,  9, 14, 19, 24]])"
      ]
     },
     "execution_count": 62,
     "metadata": {},
     "output_type": "execute_result"
    }
   ],
   "source": [
    "b-1"
   ]
  },
  {
   "cell_type": "code",
   "execution_count": 61,
   "id": "4d6eb6e2",
   "metadata": {},
   "outputs": [
    {
     "data": {
      "text/plain": [
       "array([[  0,   2,   6,  12,  20],\n",
       "       [  2,  12,  30,  56,  90],\n",
       "       [  6,  30,  72, 132, 210],\n",
       "       [ 12,  56, 132, 240, 380],\n",
       "       [ 20,  90, 210, 380, 600]])"
      ]
     },
     "execution_count": 61,
     "metadata": {},
     "output_type": "execute_result"
    }
   ],
   "source": [
    "b* (b-1)"
   ]
  },
  {
   "cell_type": "code",
   "execution_count": 59,
   "id": "7c169ffe",
   "metadata": {},
   "outputs": [
    {
     "data": {
      "text/plain": [
       "array([[  1,   4,   9,  16,  25],\n",
       "       [  4,  16,  36,  64, 100],\n",
       "       [  9,  36,  81, 144, 225],\n",
       "       [ 16,  64, 144, 256, 400],\n",
       "       [ 25, 100, 225, 400, 625]])"
      ]
     },
     "execution_count": 59,
     "metadata": {},
     "output_type": "execute_result"
    }
   ],
   "source": [
    "b * b"
   ]
  },
  {
   "cell_type": "code",
   "execution_count": 8,
   "id": "26a2e98e",
   "metadata": {},
   "outputs": [
    {
     "ename": "ValueError",
     "evalue": "If using all scalar values, you must pass an index",
     "output_type": "error",
     "traceback": [
      "\u001b[0;31m---------------------------------------------------------------------------\u001b[0m",
      "\u001b[0;31mValueError\u001b[0m                                Traceback (most recent call last)",
      "\u001b[0;32m/var/folders/05/s3s10hcs1xd8ft30bzxz3t7c0000gn/T/ipykernel_15875/516763050.py\u001b[0m in \u001b[0;36m<module>\u001b[0;34m\u001b[0m\n\u001b[0;32m----> 1\u001b[0;31m \u001b[0mpd\u001b[0m\u001b[0;34m.\u001b[0m\u001b[0mDataFrame\u001b[0m\u001b[0;34m(\u001b[0m\u001b[0ma\u001b[0m\u001b[0;34m)\u001b[0m\u001b[0;34m\u001b[0m\u001b[0m\n\u001b[0m",
      "\u001b[0;32m~/opt/anaconda3/envs/join_quant/lib/python3.7/site-packages/pandas/core/frame.py\u001b[0m in \u001b[0;36m__init__\u001b[0;34m(self, data, index, columns, dtype, copy)\u001b[0m\n\u001b[1;32m    466\u001b[0m \u001b[0;34m\u001b[0m\u001b[0m\n\u001b[1;32m    467\u001b[0m         \u001b[0;32melif\u001b[0m \u001b[0misinstance\u001b[0m\u001b[0;34m(\u001b[0m\u001b[0mdata\u001b[0m\u001b[0;34m,\u001b[0m \u001b[0mdict\u001b[0m\u001b[0;34m)\u001b[0m\u001b[0;34m:\u001b[0m\u001b[0;34m\u001b[0m\u001b[0m\n\u001b[0;32m--> 468\u001b[0;31m             \u001b[0mmgr\u001b[0m \u001b[0;34m=\u001b[0m \u001b[0minit_dict\u001b[0m\u001b[0;34m(\u001b[0m\u001b[0mdata\u001b[0m\u001b[0;34m,\u001b[0m \u001b[0mindex\u001b[0m\u001b[0;34m,\u001b[0m \u001b[0mcolumns\u001b[0m\u001b[0;34m,\u001b[0m \u001b[0mdtype\u001b[0m\u001b[0;34m=\u001b[0m\u001b[0mdtype\u001b[0m\u001b[0;34m)\u001b[0m\u001b[0;34m\u001b[0m\u001b[0m\n\u001b[0m\u001b[1;32m    469\u001b[0m         \u001b[0;32melif\u001b[0m \u001b[0misinstance\u001b[0m\u001b[0;34m(\u001b[0m\u001b[0mdata\u001b[0m\u001b[0;34m,\u001b[0m \u001b[0mma\u001b[0m\u001b[0;34m.\u001b[0m\u001b[0mMaskedArray\u001b[0m\u001b[0;34m)\u001b[0m\u001b[0;34m:\u001b[0m\u001b[0;34m\u001b[0m\u001b[0m\n\u001b[1;32m    470\u001b[0m             \u001b[0;32mimport\u001b[0m \u001b[0mnumpy\u001b[0m\u001b[0;34m.\u001b[0m\u001b[0mma\u001b[0m\u001b[0;34m.\u001b[0m\u001b[0mmrecords\u001b[0m \u001b[0;32mas\u001b[0m \u001b[0mmrecords\u001b[0m\u001b[0;34m\u001b[0m\u001b[0m\n",
      "\u001b[0;32m~/opt/anaconda3/envs/join_quant/lib/python3.7/site-packages/pandas/core/internals/construction.py\u001b[0m in \u001b[0;36minit_dict\u001b[0;34m(data, index, columns, dtype)\u001b[0m\n\u001b[1;32m    281\u001b[0m             \u001b[0marr\u001b[0m \u001b[0;32mif\u001b[0m \u001b[0;32mnot\u001b[0m \u001b[0mis_datetime64tz_dtype\u001b[0m\u001b[0;34m(\u001b[0m\u001b[0marr\u001b[0m\u001b[0;34m)\u001b[0m \u001b[0;32melse\u001b[0m \u001b[0marr\u001b[0m\u001b[0;34m.\u001b[0m\u001b[0mcopy\u001b[0m\u001b[0;34m(\u001b[0m\u001b[0;34m)\u001b[0m \u001b[0;32mfor\u001b[0m \u001b[0marr\u001b[0m \u001b[0;32min\u001b[0m \u001b[0marrays\u001b[0m\u001b[0;34m\u001b[0m\u001b[0m\n\u001b[1;32m    282\u001b[0m         ]\n\u001b[0;32m--> 283\u001b[0;31m     \u001b[0;32mreturn\u001b[0m \u001b[0marrays_to_mgr\u001b[0m\u001b[0;34m(\u001b[0m\u001b[0marrays\u001b[0m\u001b[0;34m,\u001b[0m \u001b[0mdata_names\u001b[0m\u001b[0;34m,\u001b[0m \u001b[0mindex\u001b[0m\u001b[0;34m,\u001b[0m \u001b[0mcolumns\u001b[0m\u001b[0;34m,\u001b[0m \u001b[0mdtype\u001b[0m\u001b[0;34m=\u001b[0m\u001b[0mdtype\u001b[0m\u001b[0;34m)\u001b[0m\u001b[0;34m\u001b[0m\u001b[0m\n\u001b[0m\u001b[1;32m    284\u001b[0m \u001b[0;34m\u001b[0m\u001b[0m\n\u001b[1;32m    285\u001b[0m \u001b[0;34m\u001b[0m\u001b[0m\n",
      "\u001b[0;32m~/opt/anaconda3/envs/join_quant/lib/python3.7/site-packages/pandas/core/internals/construction.py\u001b[0m in \u001b[0;36marrays_to_mgr\u001b[0;34m(arrays, arr_names, index, columns, dtype, verify_integrity)\u001b[0m\n\u001b[1;32m     76\u001b[0m         \u001b[0;31m# figure out the index, if necessary\u001b[0m\u001b[0;34m\u001b[0m\u001b[0;34m\u001b[0m\u001b[0m\n\u001b[1;32m     77\u001b[0m         \u001b[0;32mif\u001b[0m \u001b[0mindex\u001b[0m \u001b[0;32mis\u001b[0m \u001b[0;32mNone\u001b[0m\u001b[0;34m:\u001b[0m\u001b[0;34m\u001b[0m\u001b[0m\n\u001b[0;32m---> 78\u001b[0;31m             \u001b[0mindex\u001b[0m \u001b[0;34m=\u001b[0m \u001b[0mextract_index\u001b[0m\u001b[0;34m(\u001b[0m\u001b[0marrays\u001b[0m\u001b[0;34m)\u001b[0m\u001b[0;34m\u001b[0m\u001b[0m\n\u001b[0m\u001b[1;32m     79\u001b[0m         \u001b[0;32melse\u001b[0m\u001b[0;34m:\u001b[0m\u001b[0;34m\u001b[0m\u001b[0m\n\u001b[1;32m     80\u001b[0m             \u001b[0mindex\u001b[0m \u001b[0;34m=\u001b[0m \u001b[0mensure_index\u001b[0m\u001b[0;34m(\u001b[0m\u001b[0mindex\u001b[0m\u001b[0;34m)\u001b[0m\u001b[0;34m\u001b[0m\u001b[0m\n",
      "\u001b[0;32m~/opt/anaconda3/envs/join_quant/lib/python3.7/site-packages/pandas/core/internals/construction.py\u001b[0m in \u001b[0;36mextract_index\u001b[0;34m(data)\u001b[0m\n\u001b[1;32m    385\u001b[0m \u001b[0;34m\u001b[0m\u001b[0m\n\u001b[1;32m    386\u001b[0m         \u001b[0;32mif\u001b[0m \u001b[0;32mnot\u001b[0m \u001b[0mindexes\u001b[0m \u001b[0;32mand\u001b[0m \u001b[0;32mnot\u001b[0m \u001b[0mraw_lengths\u001b[0m\u001b[0;34m:\u001b[0m\u001b[0;34m\u001b[0m\u001b[0m\n\u001b[0;32m--> 387\u001b[0;31m             \u001b[0;32mraise\u001b[0m \u001b[0mValueError\u001b[0m\u001b[0;34m(\u001b[0m\u001b[0;34m\"If using all scalar values, you must pass an index\"\u001b[0m\u001b[0;34m)\u001b[0m\u001b[0;34m\u001b[0m\u001b[0m\n\u001b[0m\u001b[1;32m    388\u001b[0m \u001b[0;34m\u001b[0m\u001b[0m\n\u001b[1;32m    389\u001b[0m         \u001b[0;32mif\u001b[0m \u001b[0mhave_series\u001b[0m\u001b[0;34m:\u001b[0m\u001b[0;34m\u001b[0m\u001b[0m\n",
      "\u001b[0;31mValueError\u001b[0m: If using all scalar values, you must pass an index"
     ]
    }
   ],
   "source": [
    "pd.DataFrame(a)"
   ]
  },
  {
   "cell_type": "code",
   "execution_count": 26,
   "id": "b5652a31",
   "metadata": {},
   "outputs": [
    {
     "data": {
      "text/html": [
       "<div>\n",
       "<style scoped>\n",
       "    .dataframe tbody tr th:only-of-type {\n",
       "        vertical-align: middle;\n",
       "    }\n",
       "\n",
       "    .dataframe tbody tr th {\n",
       "        vertical-align: top;\n",
       "    }\n",
       "\n",
       "    .dataframe thead th {\n",
       "        text-align: right;\n",
       "    }\n",
       "</style>\n",
       "<table border=\"1\" class=\"dataframe\">\n",
       "  <thead>\n",
       "    <tr style=\"text-align: right;\">\n",
       "      <th></th>\n",
       "      <th>Datetime</th>\n",
       "      <th>A</th>\n",
       "      <th>AA</th>\n",
       "      <th>AAPL</th>\n",
       "      <th>ABC</th>\n",
       "      <th>ABI</th>\n",
       "      <th>ABT</th>\n",
       "      <th>ACAS</th>\n",
       "      <th>ACE</th>\n",
       "      <th>ACS</th>\n",
       "      <th>...</th>\n",
       "      <th>XRX</th>\n",
       "      <th>XTO</th>\n",
       "      <th>YHOO</th>\n",
       "      <th>YUM</th>\n",
       "      <th>ZION</th>\n",
       "      <th>ZMH</th>\n",
       "      <th>COV</th>\n",
       "      <th>DFS</th>\n",
       "      <th>TEL</th>\n",
       "      <th>JAVA</th>\n",
       "    </tr>\n",
       "  </thead>\n",
       "  <tbody>\n",
       "    <tr>\n",
       "      <th>0</th>\n",
       "      <td>2007-09-04 13:35:00</td>\n",
       "      <td>0.000276</td>\n",
       "      <td>-0.005647</td>\n",
       "      <td>0.012681</td>\n",
       "      <td>-0.003861</td>\n",
       "      <td>-0.001587</td>\n",
       "      <td>-0.002817</td>\n",
       "      <td>-0.014298</td>\n",
       "      <td>0.005729</td>\n",
       "      <td>0.000000</td>\n",
       "      <td>...</td>\n",
       "      <td>-0.001174</td>\n",
       "      <td>0.001476</td>\n",
       "      <td>0.008373</td>\n",
       "      <td>0.000000</td>\n",
       "      <td>0.001915</td>\n",
       "      <td>0.002798</td>\n",
       "      <td>0.000500</td>\n",
       "      <td>-0.002167</td>\n",
       "      <td>-0.006028</td>\n",
       "      <td>0.003721</td>\n",
       "    </tr>\n",
       "    <tr>\n",
       "      <th>1</th>\n",
       "      <td>2007-09-04 13:40:00</td>\n",
       "      <td>-0.002204</td>\n",
       "      <td>-0.002493</td>\n",
       "      <td>0.002963</td>\n",
       "      <td>-0.002304</td>\n",
       "      <td>-0.000795</td>\n",
       "      <td>0.000584</td>\n",
       "      <td>0.007867</td>\n",
       "      <td>0.005092</td>\n",
       "      <td>-0.001003</td>\n",
       "      <td>...</td>\n",
       "      <td>-0.000294</td>\n",
       "      <td>0.001842</td>\n",
       "      <td>0.002129</td>\n",
       "      <td>-0.002904</td>\n",
       "      <td>0.002122</td>\n",
       "      <td>0.000444</td>\n",
       "      <td>0.000000</td>\n",
       "      <td>-0.005430</td>\n",
       "      <td>-0.003754</td>\n",
       "      <td>0.001854</td>\n",
       "    </tr>\n",
       "    <tr>\n",
       "      <th>2</th>\n",
       "      <td>2007-09-04 13:45:00</td>\n",
       "      <td>0.000138</td>\n",
       "      <td>0.005139</td>\n",
       "      <td>-0.001547</td>\n",
       "      <td>-0.000105</td>\n",
       "      <td>0.007318</td>\n",
       "      <td>0.000097</td>\n",
       "      <td>0.003537</td>\n",
       "      <td>0.001117</td>\n",
       "      <td>-0.001306</td>\n",
       "      <td>...</td>\n",
       "      <td>0.002939</td>\n",
       "      <td>0.002207</td>\n",
       "      <td>0.000425</td>\n",
       "      <td>0.003066</td>\n",
       "      <td>0.000635</td>\n",
       "      <td>-0.003170</td>\n",
       "      <td>-0.000750</td>\n",
       "      <td>-0.000655</td>\n",
       "      <td>-0.004638</td>\n",
       "      <td>0.001850</td>\n",
       "    </tr>\n",
       "    <tr>\n",
       "      <th>3</th>\n",
       "      <td>2007-09-04 13:50:00</td>\n",
       "      <td>0.003451</td>\n",
       "      <td>-0.000829</td>\n",
       "      <td>0.000176</td>\n",
       "      <td>-0.002520</td>\n",
       "      <td>0.000158</td>\n",
       "      <td>0.001363</td>\n",
       "      <td>-0.000486</td>\n",
       "      <td>-0.004635</td>\n",
       "      <td>0.004928</td>\n",
       "      <td>...</td>\n",
       "      <td>0.000879</td>\n",
       "      <td>0.004128</td>\n",
       "      <td>0.000425</td>\n",
       "      <td>-0.001070</td>\n",
       "      <td>-0.001975</td>\n",
       "      <td>-0.003116</td>\n",
       "      <td>0.003503</td>\n",
       "      <td>0.004589</td>\n",
       "      <td>0.001748</td>\n",
       "      <td>0.009234</td>\n",
       "    </tr>\n",
       "    <tr>\n",
       "      <th>4</th>\n",
       "      <td>2007-09-04 13:55:00</td>\n",
       "      <td>-0.000275</td>\n",
       "      <td>-0.000830</td>\n",
       "      <td>-0.000458</td>\n",
       "      <td>0.000211</td>\n",
       "      <td>-0.003158</td>\n",
       "      <td>0.001750</td>\n",
       "      <td>-0.001702</td>\n",
       "      <td>-0.002414</td>\n",
       "      <td>0.003803</td>\n",
       "      <td>...</td>\n",
       "      <td>0.000293</td>\n",
       "      <td>0.003563</td>\n",
       "      <td>0.005519</td>\n",
       "      <td>-0.001683</td>\n",
       "      <td>-0.001767</td>\n",
       "      <td>-0.000319</td>\n",
       "      <td>-0.001620</td>\n",
       "      <td>-0.000653</td>\n",
       "      <td>0.003053</td>\n",
       "      <td>-0.003660</td>\n",
       "    </tr>\n",
       "  </tbody>\n",
       "</table>\n",
       "<p>5 rows × 506 columns</p>\n",
       "</div>"
      ],
      "text/plain": [
       "              Datetime         A        AA      AAPL       ABC       ABI  \\\n",
       "0  2007-09-04 13:35:00  0.000276 -0.005647  0.012681 -0.003861 -0.001587   \n",
       "1  2007-09-04 13:40:00 -0.002204 -0.002493  0.002963 -0.002304 -0.000795   \n",
       "2  2007-09-04 13:45:00  0.000138  0.005139 -0.001547 -0.000105  0.007318   \n",
       "3  2007-09-04 13:50:00  0.003451 -0.000829  0.000176 -0.002520  0.000158   \n",
       "4  2007-09-04 13:55:00 -0.000275 -0.000830 -0.000458  0.000211 -0.003158   \n",
       "\n",
       "        ABT      ACAS       ACE       ACS  ...       XRX       XTO      YHOO  \\\n",
       "0 -0.002817 -0.014298  0.005729  0.000000  ... -0.001174  0.001476  0.008373   \n",
       "1  0.000584  0.007867  0.005092 -0.001003  ... -0.000294  0.001842  0.002129   \n",
       "2  0.000097  0.003537  0.001117 -0.001306  ...  0.002939  0.002207  0.000425   \n",
       "3  0.001363 -0.000486 -0.004635  0.004928  ...  0.000879  0.004128  0.000425   \n",
       "4  0.001750 -0.001702 -0.002414  0.003803  ...  0.000293  0.003563  0.005519   \n",
       "\n",
       "        YUM      ZION       ZMH       COV       DFS       TEL      JAVA  \n",
       "0  0.000000  0.001915  0.002798  0.000500 -0.002167 -0.006028  0.003721  \n",
       "1 -0.002904  0.002122  0.000444  0.000000 -0.005430 -0.003754  0.001854  \n",
       "2  0.003066  0.000635 -0.003170 -0.000750 -0.000655 -0.004638  0.001850  \n",
       "3 -0.001070 -0.001975 -0.003116  0.003503  0.004589  0.001748  0.009234  \n",
       "4 -0.001683 -0.001767 -0.000319 -0.001620 -0.000653  0.003053 -0.003660  \n",
       "\n",
       "[5 rows x 506 columns]"
      ]
     },
     "execution_count": 26,
     "metadata": {},
     "output_type": "execute_result"
    }
   ],
   "source": [
    "temp = pd.read_csv(\"5_mins_mid_quote_ret.csv\")\n",
    "temp.head()"
   ]
  }
 ],
 "metadata": {
  "kernelspec": {
   "display_name": "Python 3 (ipykernel)",
   "language": "python",
   "name": "python3"
  },
  "language_info": {
   "codemirror_mode": {
    "name": "ipython",
    "version": 3
   },
   "file_extension": ".py",
   "mimetype": "text/x-python",
   "name": "python",
   "nbconvert_exporter": "python",
   "pygments_lexer": "ipython3",
   "version": "3.8.3"
  },
  "toc": {
   "base_numbering": 1,
   "nav_menu": {},
   "number_sections": true,
   "sideBar": true,
   "skip_h1_title": false,
   "title_cell": "Table of Contents",
   "title_sidebar": "Contents",
   "toc_cell": false,
   "toc_position": {},
   "toc_section_display": true,
   "toc_window_display": false
  }
 },
 "nbformat": 4,
 "nbformat_minor": 5
}
