{
 "cells": [
  {
   "cell_type": "code",
   "execution_count": 3,
   "metadata": {},
   "outputs": [],
   "source": [
    "import pandas as pd \n",
    "import numpy as np\n",
    "import matplotlib.pyplot as plt\n",
    "import datetime as dt\n",
    "import seaborn as sns\n",
    "from sklearn.pipeline import Pipeline\n",
    "from sklearn.impute import SimpleImputer\n",
    "from sklearn.compose import ColumnTransformer\n",
    "from sklearn.covariance import EmpiricalCovariance\n",
    "from scipy.optimize import minimize\n",
    "import warnings \n",
    "warnings.filterwarnings('ignore')\n",
    "import pyRMT"
   ]
  },
  {
   "cell_type": "code",
   "execution_count": 67,
   "metadata": {},
   "outputs": [],
   "source": [
    "# Load data \n",
    "price_data = pd.read_csv('terminal_price.csv', index_col = 0)"
   ]
  },
  {
   "cell_type": "code",
   "execution_count": 68,
   "metadata": {},
   "outputs": [],
   "source": [
    "tickers = price_data.select_dtypes(include = ['float64']).columns.to_list()\n",
    "num_transformers = Pipeline(steps=[('imputer',SimpleImputer(strategy='median'))])\n",
    "preprocess_pipeline = ColumnTransformer(transformers=[('numerical',num_transformers, tickers)])"
   ]
  },
  {
   "cell_type": "code",
   "execution_count": 97,
   "metadata": {},
   "outputs": [],
   "source": [
    "data_cleaned = preprocess_pipeline.fit_transform(price_data)\n",
    "price_info = pd.DataFrame(data_cleaned, columns = price_data.columns, index = price_data.index)"
   ]
  },
  {
   "cell_type": "code",
   "execution_count": 70,
   "metadata": {},
   "outputs": [],
   "source": [
    "def getData(x):\n",
    "    if type(x) == str:\n",
    "        return pd.Timestamp(x).date()\n",
    "    else:\n",
    "        x = int(x)\n",
    "        return dt.date(int(str(int(x))[:4]), int(str(int(x))[4:6]), int(str(int(x))[6:]))"
   ]
  },
  {
   "cell_type": "code",
   "execution_count": 98,
   "metadata": {},
   "outputs": [],
   "source": [
    "# Transform time format. \n",
    "price_info = price_info.reset_index()\n",
    "price_info = price_info.rename(columns = {'index': 'time'})\n",
    "price_info['time'] = price_info['time'].apply(getData)\n",
    "price_info.time = pd.to_datetime(price_info['time'])\n",
    "price_info = price_info.set_index('time')"
   ]
  },
  {
   "cell_type": "code",
   "execution_count": 99,
   "metadata": {},
   "outputs": [],
   "source": [
    "# Get Return Data \n",
    "return_info = price_info.pct_change().fillna(0)"
   ]
  },
  {
   "cell_type": "code",
   "execution_count": 180,
   "metadata": {},
   "outputs": [],
   "source": [
    "### test with few tickers \n",
    "test_ticker = return_info[['A','AA','AAPL']]"
   ]
  },
  {
   "cell_type": "code",
   "execution_count": 271,
   "metadata": {},
   "outputs": [],
   "source": [
    "# Seperating training and testing dataset on rolling basis \n",
    "def rolling_backtest(data,his_win = 3, test_win = 2, shrinkage_method = 'Empirical'):\n",
    "    for i in range(data.shape[0] - (his_win + test_win)):\n",
    "        \n",
    "        hist_data = data.iloc[i: i + his_win]\n",
    "        test_data = data.iloc[i + his_win: i + his_win + test_win]\n",
    "        \n",
    "        if shrinkage_method == 'Empirical':\n",
    "            his_cov = EmpiricalCovariance().fit(hist_data)\n",
    "            his_cov = pd.DataFrame(his_cov.covariance_, index = hist_data.columns, columns = hist_data.columns)\n",
    "\n",
    "            test_cov = EmpiricalCovariance().fit(test_data)\n",
    "            test_cov = pd.DataFrame(test_cov.covariance_, index = hist_data.columns, columns = hist_data.columns)\n",
    "        \n",
    "        if shrinkage_method == 'Clipped':\n",
    "            his_cov = pyRMT.clipped(hist_data, return_covariance = True)\n",
    "            test_cov = pyRMT.clipped(test_data, return_covariance = True)\n",
    "            \n",
    "        if shrinkage_method == 'Optimal':\n",
    "            his_cov = pyRMT.optimalShrinkage(hist_data, return_covariance = True)\n",
    "            test_cov = pyRMT.optimalShrinkage(test_data, return_covariance = True)\n",
    "        \n",
    "        return his_cov, test_cov\n",
    "his_cov, test_cov = rolling_backtest(test_ticker)\n"
   ]
  },
  {
   "cell_type": "code",
   "execution_count": 132,
   "metadata": {
    "scrolled": true
   },
   "outputs": [
    {
     "name": "stdout",
     "output_type": "stream",
     "text": [
      "              A   AA\n",
      "time                \n",
      "2007-09-07  0.0  0.0\n",
      "                   A        AA\n",
      "time                          \n",
      "2007-09-10 -0.007216 -0.026460\n",
      "2007-09-11  0.007075  0.005707\n",
      "2007-09-12 -0.001240 -0.014770\n",
      "                   A        AA\n",
      "time                          \n",
      "2007-09-11  0.007075  0.005707\n",
      "2007-09-12 -0.001240 -0.014770\n",
      "2007-09-13  0.003006  0.022710\n",
      "                   A        AA\n",
      "time                          \n",
      "2007-09-12 -0.001240 -0.014770\n",
      "2007-09-13  0.003006  0.022710\n",
      "2007-09-14 -0.005472  0.006821\n",
      "                   A        AA\n",
      "time                          \n",
      "2007-09-13  0.003006  0.022710\n",
      "2007-09-14 -0.005472  0.006821\n",
      "                   A        AA\n",
      "time                          \n",
      "2007-09-14 -0.005472  0.006821\n"
     ]
    }
   ],
   "source": [
    "# Seperating training and testing dataset on rolling basis \n",
    "def rolling_backtest(data, model, his_win = 3, test_win = 2):\n",
    "    for i in data.index.unique()[:(his_win + test_win + 1)]:\n",
    "        hist_cov = data[(data.index >= i) & (data.index <i + pd.Timedelta(days = his_win))]\n",
    "        test_cov = data[(data.index >= i + pd.Timedelta(days = his_win)) & (data.index < i + pd.Timedelta(days = his_win + test_win))]\n",
    "        \n",
    "        print(hist_cov)\n",
    "        print(EmpiricalCovariance(hist_cov))\n",
    "        #print(pyRMT.clipped(hist_cov, return_covariance = True))\n",
    "        #print(pyRMT.optimalShrinkage(hist_cov, return_covariance = True))\n",
    "rolling_backtest(test_ticker, EmpiricalCovariance)\n"
   ]
  },
  {
   "cell_type": "code",
   "execution_count": 256,
   "metadata": {},
   "outputs": [],
   "source": [
    "# Compute strategy weights  \n",
    "def weights(num, return_matrix, cov_matrix, weight_method = 'historical'):\n",
    "    cov_matrix_inv = pd.DataFrame(np.linalg.pinv(cov_matrix.values), cov_matrix.columns, cov_matrix.index)\n",
    "    if weight_method == 'historical':\n",
    "        g_list = [1] * num\n",
    "        \n",
    "        w = cov_matrix_inv.dot(g_list)/np.dot(g_list.T,np.dot(r_cov,weight))\n",
    "        return w/w.sum()\n",
    "    \n",
    "    if weight_method == 'omniscient':\n",
    "        g_list = return_matrix.iloc[:-1] * n \n",
    "        \n",
    "        w = cov_matrix_inv.dot(g_list)/np.dot(g_list.T,np.dot(r_cov,weight))\n",
    "        return w/w.sum()\n",
    "    \n",
    "    if weight_method == 'random_long_short':\n",
    "        g_list = np.random.uniform(0, 1, n)\n",
    "        \n",
    "        w = cov_matrix_inv.dot(g_list)/np.dot(g_list.T,np.dot(r_cov,weight))\n",
    "        return w/w.sum()\n",
    "\n",
    "def performance(ret, weight, weight_method = 'historical'):\n",
    "    rf = 0.00\n",
    "    r_mean = ret.mean() \n",
    "    p_mean = np.sum(r_mean * weight)\n",
    "    if weight_method == 'historical':\n",
    "       # Use Empirical Covariance Matrix\n",
    "        r_cov = EmpiricalCovariance().fit(ret)\n",
    "        r_cov = pd.DataFrame(r_cov.covariance_, index = ret.columns, columns = ret.columns)\n",
    "    p_var = np.dot(weight.T,np.dot(r_cov,weight))\n",
    "    p_std = np.sqrt(p_var)\n",
    "    p_sharpe = (p_mean-rf)/p_std\n",
    "    \n",
    "    return p_mean,p_std,p_sharpe\n",
    "    "
   ]
  },
  {
   "cell_type": "code",
   "execution_count": 233,
   "metadata": {},
   "outputs": [],
   "source": [
    "np.random.seed(1)\n",
    "p_mean,p_std,p_sharpe = np.column_stack([performance(test_ticker,weights(3)) for i in range(2000)])"
   ]
  },
  {
   "cell_type": "code",
   "execution_count": 184,
   "metadata": {},
   "outputs": [
    {
     "data": {
      "image/png": "[encoded data removed]",
      "text/plain": [
       "<Figure size 720x360 with 2 Axes>"
      ]
     },
     "metadata": {
      "needs_background": "light"
     },
     "output_type": "display_data"
    }
   ],
   "source": [
    "plt.figure(figsize = (10,5))# YlGnBu\n",
    "plt.scatter(p_std, p_mean, c=p_sharpe, marker = 'o',cmap = 'YlGnBu',s = 15)\n",
    "plt.xlabel('std')\n",
    "plt.ylabel('mean')\n",
    "plt.colorbar(label = 'Sharpe')\n",
    "plt.title('Mean and Std of Returns')\n",
    "plt.show()"
   ]
  },
  {
   "cell_type": "code",
   "execution_count": 228,
   "metadata": {},
   "outputs": [],
   "source": [
    "def min_variance(weights, return_data):\n",
    "    return performance(return_data,weights)[1]**2"
   ]
  },
  {
   "cell_type": "code",
   "execution_count": 234,
   "metadata": {},
   "outputs": [
    {
     "data": {
      "text/plain": [
       "     fun: 0.0001863236460340026\n",
       "     jac: array([0.0001883 , 0.00068315, 0.00019406])\n",
       " message: 'Optimization terminated successfully.'\n",
       "    nfev: 5\n",
       "     nit: 1\n",
       "    njev: 1\n",
       "  status: 0\n",
       " success: True\n",
       "       x: array([0.26636304, 0.36828042, 0.36535655])"
      ]
     },
     "execution_count": 234,
     "metadata": {},
     "output_type": "execute_result"
    }
   ],
   "source": [
    "cons = ({'type':'eq', 'fun':lambda x: np.sum(x)-1})\n",
    "bnds = tuple((0,1) for x in range(3))\n",
    "optv = minimize(min_variance, x0 = weights(3),args = (test_ticker,),method = 'SLSQP', bounds = bnds, constraints = cons)\n",
    "optv"
   ]
  },
  {
   "cell_type": "code",
   "execution_count": 235,
   "metadata": {},
   "outputs": [
    {
     "data": {
      "text/plain": [
       "(0.0053597915884575666, 0.013650041979202943, 0.39265751685040146)"
      ]
     },
     "execution_count": 235,
     "metadata": {},
     "output_type": "execute_result"
    }
   ],
   "source": [
    "result = performance(test_ticker,optv.x)\n",
    "result"
   ]
  },
  {
   "cell_type": "code",
   "execution_count": null,
   "metadata": {},
   "outputs": [],
   "source": [
    "def performance_evaluation(his_cov, test_cov):\n",
    "    # Annulized out of sample average volatility \n",
    "    return ((his_cov - test_cov).std()) ** 2"
   ]
  },
  {
   "cell_type": "code",
   "execution_count": 276,
   "metadata": {},
   "outputs": [
    {
     "data": {
      "text/plain": [
       "A       0.019994\n",
       "AA      0.033773\n",
       "AAPL    0.082236\n",
       "dtype: float64"
      ]
     },
     "execution_count": 276,
     "metadata": {},
     "output_type": "execute_result"
    }
   ],
   "source": [
    "(his_cov - test_cov).std() * 252"
   ]
  },
  {
   "cell_type": "code",
   "execution_count": 239,
   "metadata": {},
   "outputs": [],
   "source": [
    "r_cov = EmpiricalCovariance().fit(test_ticker)\n",
    "r_cov = pd.DataFrame(r_cov.covariance_, index = test_ticker.columns, columns = test_ticker.columns)\n",
    "r_cov\n",
    "# Calculate the inverse\n",
    "r_cov_inv = pd.DataFrame(np.linalg.pinv(r_cov.values), r_cov.columns, r_cov.index)\n",
    "#p_var = np.dot(weight.T,np.dot(r_cov,weight))"
   ]
  },
  {
   "cell_type": "code",
   "execution_count": 264,
   "metadata": {},
   "outputs": [
    {
     "data": {
      "text/plain": [
       "A       0.0\n",
       "AA      0.0\n",
       "AAPL    0.0\n",
       "dtype: float64"
      ]
     },
     "execution_count": 264,
     "metadata": {},
     "output_type": "execute_result"
    }
   ],
   "source": [
    "(r_cov - r_new).std()"
   ]
  },
  {
   "cell_type": "code",
   "execution_count": 261,
   "metadata": {},
   "outputs": [
    {
     "data": {
      "text/html": [
       "<div>\n",
       "<style scoped>\n",
       "    .dataframe tbody tr th:only-of-type {\n",
       "        vertical-align: middle;\n",
       "    }\n",
       "\n",
       "    .dataframe tbody tr th {\n",
       "        vertical-align: top;\n",
       "    }\n",
       "\n",
       "    .dataframe thead th {\n",
       "        text-align: right;\n",
       "    }\n",
       "</style>\n",
       "<table border=\"1\" class=\"dataframe\">\n",
       "  <thead>\n",
       "    <tr style=\"text-align: right;\">\n",
       "      <th></th>\n",
       "      <th>A</th>\n",
       "      <th>AA</th>\n",
       "      <th>AAPL</th>\n",
       "    </tr>\n",
       "  </thead>\n",
       "  <tbody>\n",
       "    <tr>\n",
       "      <th>A</th>\n",
       "      <td>-2.999916</td>\n",
       "      <td>-2.999813</td>\n",
       "      <td>-2.999992</td>\n",
       "    </tr>\n",
       "    <tr>\n",
       "      <th>AA</th>\n",
       "      <td>-2.999813</td>\n",
       "      <td>-2.999263</td>\n",
       "      <td>-2.999944</td>\n",
       "    </tr>\n",
       "    <tr>\n",
       "      <th>AAPL</th>\n",
       "      <td>-2.999992</td>\n",
       "      <td>-2.999944</td>\n",
       "      <td>-2.999797</td>\n",
       "    </tr>\n",
       "  </tbody>\n",
       "</table>\n",
       "</div>"
      ],
      "text/plain": [
       "             A        AA      AAPL\n",
       "A    -2.999916 -2.999813 -2.999992\n",
       "AA   -2.999813 -2.999263 -2.999944\n",
       "AAPL -2.999992 -2.999944 -2.999797"
      ]
     },
     "execution_count": 261,
     "metadata": {},
     "output_type": "execute_result"
    }
   ],
   "source": [
    "r_new = r_cov - 3\n",
    "r_new"
   ]
  },
  {
   "cell_type": "code",
   "execution_count": 251,
   "metadata": {},
   "outputs": [
    {
     "data": {
      "text/plain": [
       "A       21100.076171\n",
       "AA      -4378.578138\n",
       "AAPL     5246.930484\n",
       "dtype: float64"
      ]
     },
     "execution_count": 251,
     "metadata": {},
     "output_type": "execute_result"
    }
   ],
   "source": [
    "g_list = [1] * r_cov_inv.shape[1]\n",
    "r_cov_inv.dot(g_list)"
   ]
  },
  {
   "cell_type": "code",
   "execution_count": 245,
   "metadata": {},
   "outputs": [
    {
     "data": {
      "text/plain": [
       "pandas.core.series.Series"
      ]
     },
     "execution_count": 245,
     "metadata": {},
     "output_type": "execute_result"
    }
   ],
   "source": [
    "test_ticker.iloc[1]"
   ]
  },
  {
   "cell_type": "code",
   "execution_count": 241,
   "metadata": {},
   "outputs": [
    {
     "data": {
      "text/html": [
       "<div>\n",
       "<style scoped>\n",
       "    .dataframe tbody tr th:only-of-type {\n",
       "        vertical-align: middle;\n",
       "    }\n",
       "\n",
       "    .dataframe tbody tr th {\n",
       "        vertical-align: top;\n",
       "    }\n",
       "\n",
       "    .dataframe thead th {\n",
       "        text-align: right;\n",
       "    }\n",
       "</style>\n",
       "<table border=\"1\" class=\"dataframe\">\n",
       "  <thead>\n",
       "    <tr style=\"text-align: right;\">\n",
       "      <th></th>\n",
       "      <th>A</th>\n",
       "      <th>AA</th>\n",
       "      <th>AAPL</th>\n",
       "    </tr>\n",
       "  </thead>\n",
       "  <tbody>\n",
       "    <tr>\n",
       "      <th>A</th>\n",
       "      <td>1.000000e+00</td>\n",
       "      <td>-2.334072e-16</td>\n",
       "      <td>-1.562296e-15</td>\n",
       "    </tr>\n",
       "    <tr>\n",
       "      <th>AA</th>\n",
       "      <td>1.470994e-16</td>\n",
       "      <td>1.000000e+00</td>\n",
       "      <td>4.204441e-16</td>\n",
       "    </tr>\n",
       "    <tr>\n",
       "      <th>AAPL</th>\n",
       "      <td>-1.833634e-16</td>\n",
       "      <td>-2.367940e-17</td>\n",
       "      <td>1.000000e+00</td>\n",
       "    </tr>\n",
       "  </tbody>\n",
       "</table>\n",
       "</div>"
      ],
      "text/plain": [
       "                 A            AA          AAPL\n",
       "A     1.000000e+00 -2.334072e-16 -1.562296e-15\n",
       "AA    1.470994e-16  1.000000e+00  4.204441e-16\n",
       "AAPL -1.833634e-16 -2.367940e-17  1.000000e+00"
      ]
     },
     "execution_count": 241,
     "metadata": {},
     "output_type": "execute_result"
    }
   ],
   "source": [
    "r_cov_inv.dot(r_cov)"
   ]
  },
  {
   "cell_type": "code",
   "execution_count": 254,
   "metadata": {},
   "outputs": [
    {
     "data": {
      "text/plain": [
       "array([0.59005112, 0.70162054, 0.66998786])"
      ]
     },
     "execution_count": 254,
     "metadata": {},
     "output_type": "execute_result"
    }
   ],
   "source": [
    "# Implement the covariance estimator described in the exponential weighing and Random Matrix Theory. \n"
   ]
  }
 ],
 "metadata": {
  "kernelspec": {
   "display_name": "Python 3",
   "language": "python",
   "name": "python3"
  },
  "language_info": {
   "codemirror_mode": {
    "name": "ipython",
    "version": 3
   },
   "file_extension": ".py",
   "mimetype": "text/x-python",
   "name": "python",
   "nbconvert_exporter": "python",
   "pygments_lexer": "ipython3",
   "version": "3.8.3"
  },
  "toc": {
   "base_numbering": 1,
   "nav_menu": {},
   "number_sections": true,
   "sideBar": true,
   "skip_h1_title": false,
   "title_cell": "Table of Contents",
   "title_sidebar": "Contents",
   "toc_cell": false,
   "toc_position": {},
   "toc_section_display": true,
   "toc_window_display": false
  }
 },
 "nbformat": 4,
 "nbformat_minor": 5
}
